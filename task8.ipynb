{
 "cells": [
  {
   "cell_type": "code",
   "execution_count": 17,
   "id": "e8418498-722a-41fb-b198-98494dd66476",
   "metadata": {
    "tags": []
   },
   "outputs": [
    {
     "name": "stdout",
     "output_type": "stream",
     "text": [
      "match [<re.Match object; span=(23, 38), match='ahmed@gmail.com'>]\n",
      "match [<re.Match object; span=(23, 38), match='ahmed@gmail.com'>, <re.Match object; span=(61, 74), match='ali@gmail.com'>]\n"
     ]
    }
   ],
   "source": [
    "mytext=\"Ahmed Hafez 0102345678 ahmed@gmail.com  Ali Osama 0124342342 ali@gmail.com\"\n",
    "pattern=re.compile('[a-zA-Z]+@[a-zA-Z]+\\.com')\n",
    "matches=pattern.finditer(mytext)\n",
    "result=[]\n",
    "for match in matches:\n",
    "    result.append(match)\n",
    "    print('match',result)\n",
    "    "
   ]
  },
  {
   "cell_type": "code",
   "execution_count": 20,
   "id": "2cf7f717-13bf-4267-8599-1bba317dcbae",
   "metadata": {
    "tags": []
   },
   "outputs": [
    {
     "name": "stdout",
     "output_type": "stream",
     "text": [
      "match [<re.Match object; span=(12, 22), match='0102345678'>]\n",
      "match [<re.Match object; span=(12, 22), match='0102345678'>, <re.Match object; span=(50, 60), match='0124342342'>]\n"
     ]
    }
   ],
   "source": [
    "pattern=re.compile(R\"(010|012)\\d\\d\\d\\d\\d\\d\\d\")\n",
    "matches=pattern.finditer(mytext)\n",
    "result=[]\n",
    "for match in matches:\n",
    "     result.append(match)\n",
    "     print('match',result)"
   ]
  },
  {
   "cell_type": "code",
   "execution_count": 21,
   "id": "3d9cf2f5-6fac-4a4c-aa9b-f779fa8a23ec",
   "metadata": {
    "tags": []
   },
   "outputs": [],
   "source": [
    "pattern=re.compile(r\"\\b[A-Z][a-z]+[A-Z][a-z]\\b\")\n",
    "matches=pattern.finditer(mytext)\n",
    "result=[]\n",
    "for match in matches:\n",
    "     result.append(match)\n",
    "     print('match',result)"
   ]
  },
  {
   "cell_type": "code",
   "execution_count": null,
   "id": "76519ef8-6e3b-47c0-ba0c-c380b03fa79d",
   "metadata": {},
   "outputs": [],
   "source": []
  },
  {
   "cell_type": "code",
   "execution_count": null,
   "id": "6f743c8d-37b9-458a-85c6-25e3b4086a78",
   "metadata": {},
   "outputs": [],
   "source": []
  }
 ],
 "metadata": {
  "kernelspec": {
   "display_name": "Python 3 (ipykernel)",
   "language": "python",
   "name": "python3"
  },
  "language_info": {
   "codemirror_mode": {
    "name": "ipython",
    "version": 3
   },
   "file_extension": ".py",
   "mimetype": "text/x-python",
   "name": "python",
   "nbconvert_exporter": "python",
   "pygments_lexer": "ipython3",
   "version": "3.11.4"
  }
 },
 "nbformat": 4,
 "nbformat_minor": 5
}
